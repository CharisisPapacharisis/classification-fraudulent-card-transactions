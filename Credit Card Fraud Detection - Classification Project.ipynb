{
 "cells": [
  {
   "cell_type": "markdown",
   "metadata": {},
   "source": [
    "# Credit Card Fraud Detection: Classification Project\n",
    "\n",
    "## Intro\n",
    "Credit card transactions are certainly all around us, and arguably the most popular means of completing purchases. Therefore, detecting fraudulent attempts is of paramount importance. Machine Learning (ML) can be of help towards this direction: the task of distinguishing valid versus fraudulent transactions can be viewed as an ML **Classification problem**.\n",
    "\n",
    "For this project, I will use a dataset made public by the Machine Learning Group of ULB (Université Libre de Bruxelles). The datasets contains credit card transactions made by European cardholders, in September 2013.\n",
    "\n",
    "For the implementation, I mainly used the libraries numpy, pandas, matplotlib, seaborn, scikit-learn."
   ]
  },
  {
   "cell_type": "markdown",
   "metadata": {},
   "source": [
    "![](images/credit_card.jpg?raw=true)"
   ]
  },
  {
   "cell_type": "markdown",
   "metadata": {},
   "source": [
    "## Workflow followed\n",
    "\n",
    "The process I followed has generally been:\n",
    "\n",
    "* Data loading\n",
    "* Pre-processing & Data Exploration\n",
    "* Assessing pathways of handling an imbalanced dataset\n",
    "* Model Training & Performance Evaluation\n",
    "* Tuning of model hyperparameters for the selected algorithm\n",
    "\n",
    "\n",
    "## Data Loading\n",
    "Importing the necessary libraries, and the dataset:"
   ]
  },
  {
   "cell_type": "code",
   "execution_count": 3,
   "metadata": {},
   "outputs": [],
   "source": [
    "#importing libraries\n",
    "%matplotlib inline\n",
    "import numpy as np\n",
    "import pandas as pd\n",
    "import matplotlib.pyplot as plt\n",
    "import seaborn as sns\n",
    "import tensorflow as tf\n",
    "import matplotlib.ticker as ticker"
   ]
  },
  {
   "cell_type": "code",
   "execution_count": 4,
   "metadata": {},
   "outputs": [],
   "source": [
    "#importing the csv fle\n",
    "df = pd.read_csv('creditcard.csv')"
   ]
  },
  {
   "cell_type": "markdown",
   "metadata": {},
   "source": [
    "## Pre-processing & Data Exploration\n",
    "\n",
    "Let's have a look at the top rows of the dataset, and the features of of the dataframe."
   ]
  },
  {
   "cell_type": "code",
   "execution_count": 5,
   "metadata": {},
   "outputs": [
    {
     "data": {
      "text/html": [
       "<div>\n",
       "<style scoped>\n",
       "    .dataframe tbody tr th:only-of-type {\n",
       "        vertical-align: middle;\n",
       "    }\n",
       "\n",
       "    .dataframe tbody tr th {\n",
       "        vertical-align: top;\n",
       "    }\n",
       "\n",
       "    .dataframe thead th {\n",
       "        text-align: right;\n",
       "    }\n",
       "</style>\n",
       "<table border=\"1\" class=\"dataframe\">\n",
       "  <thead>\n",
       "    <tr style=\"text-align: right;\">\n",
       "      <th></th>\n",
       "      <th>Time</th>\n",
       "      <th>V1</th>\n",
       "      <th>V2</th>\n",
       "      <th>V3</th>\n",
       "      <th>V4</th>\n",
       "      <th>V5</th>\n",
       "      <th>V6</th>\n",
       "      <th>V7</th>\n",
       "      <th>V8</th>\n",
       "      <th>V9</th>\n",
       "      <th>...</th>\n",
       "      <th>V21</th>\n",
       "      <th>V22</th>\n",
       "      <th>V23</th>\n",
       "      <th>V24</th>\n",
       "      <th>V25</th>\n",
       "      <th>V26</th>\n",
       "      <th>V27</th>\n",
       "      <th>V28</th>\n",
       "      <th>Amount</th>\n",
       "      <th>Class</th>\n",
       "    </tr>\n",
       "  </thead>\n",
       "  <tbody>\n",
       "    <tr>\n",
       "      <th>0</th>\n",
       "      <td>0.0</td>\n",
       "      <td>-1.359807</td>\n",
       "      <td>-0.072781</td>\n",
       "      <td>2.536347</td>\n",
       "      <td>1.378155</td>\n",
       "      <td>-0.338321</td>\n",
       "      <td>0.462388</td>\n",
       "      <td>0.239599</td>\n",
       "      <td>0.098698</td>\n",
       "      <td>0.363787</td>\n",
       "      <td>...</td>\n",
       "      <td>-0.018307</td>\n",
       "      <td>0.277838</td>\n",
       "      <td>-0.110474</td>\n",
       "      <td>0.066928</td>\n",
       "      <td>0.128539</td>\n",
       "      <td>-0.189115</td>\n",
       "      <td>0.133558</td>\n",
       "      <td>-0.021053</td>\n",
       "      <td>149.62</td>\n",
       "      <td>0</td>\n",
       "    </tr>\n",
       "    <tr>\n",
       "      <th>1</th>\n",
       "      <td>0.0</td>\n",
       "      <td>1.191857</td>\n",
       "      <td>0.266151</td>\n",
       "      <td>0.166480</td>\n",
       "      <td>0.448154</td>\n",
       "      <td>0.060018</td>\n",
       "      <td>-0.082361</td>\n",
       "      <td>-0.078803</td>\n",
       "      <td>0.085102</td>\n",
       "      <td>-0.255425</td>\n",
       "      <td>...</td>\n",
       "      <td>-0.225775</td>\n",
       "      <td>-0.638672</td>\n",
       "      <td>0.101288</td>\n",
       "      <td>-0.339846</td>\n",
       "      <td>0.167170</td>\n",
       "      <td>0.125895</td>\n",
       "      <td>-0.008983</td>\n",
       "      <td>0.014724</td>\n",
       "      <td>2.69</td>\n",
       "      <td>0</td>\n",
       "    </tr>\n",
       "    <tr>\n",
       "      <th>2</th>\n",
       "      <td>1.0</td>\n",
       "      <td>-1.358354</td>\n",
       "      <td>-1.340163</td>\n",
       "      <td>1.773209</td>\n",
       "      <td>0.379780</td>\n",
       "      <td>-0.503198</td>\n",
       "      <td>1.800499</td>\n",
       "      <td>0.791461</td>\n",
       "      <td>0.247676</td>\n",
       "      <td>-1.514654</td>\n",
       "      <td>...</td>\n",
       "      <td>0.247998</td>\n",
       "      <td>0.771679</td>\n",
       "      <td>0.909412</td>\n",
       "      <td>-0.689281</td>\n",
       "      <td>-0.327642</td>\n",
       "      <td>-0.139097</td>\n",
       "      <td>-0.055353</td>\n",
       "      <td>-0.059752</td>\n",
       "      <td>378.66</td>\n",
       "      <td>0</td>\n",
       "    </tr>\n",
       "    <tr>\n",
       "      <th>3</th>\n",
       "      <td>1.0</td>\n",
       "      <td>-0.966272</td>\n",
       "      <td>-0.185226</td>\n",
       "      <td>1.792993</td>\n",
       "      <td>-0.863291</td>\n",
       "      <td>-0.010309</td>\n",
       "      <td>1.247203</td>\n",
       "      <td>0.237609</td>\n",
       "      <td>0.377436</td>\n",
       "      <td>-1.387024</td>\n",
       "      <td>...</td>\n",
       "      <td>-0.108300</td>\n",
       "      <td>0.005274</td>\n",
       "      <td>-0.190321</td>\n",
       "      <td>-1.175575</td>\n",
       "      <td>0.647376</td>\n",
       "      <td>-0.221929</td>\n",
       "      <td>0.062723</td>\n",
       "      <td>0.061458</td>\n",
       "      <td>123.50</td>\n",
       "      <td>0</td>\n",
       "    </tr>\n",
       "    <tr>\n",
       "      <th>4</th>\n",
       "      <td>2.0</td>\n",
       "      <td>-1.158233</td>\n",
       "      <td>0.877737</td>\n",
       "      <td>1.548718</td>\n",
       "      <td>0.403034</td>\n",
       "      <td>-0.407193</td>\n",
       "      <td>0.095921</td>\n",
       "      <td>0.592941</td>\n",
       "      <td>-0.270533</td>\n",
       "      <td>0.817739</td>\n",
       "      <td>...</td>\n",
       "      <td>-0.009431</td>\n",
       "      <td>0.798278</td>\n",
       "      <td>-0.137458</td>\n",
       "      <td>0.141267</td>\n",
       "      <td>-0.206010</td>\n",
       "      <td>0.502292</td>\n",
       "      <td>0.219422</td>\n",
       "      <td>0.215153</td>\n",
       "      <td>69.99</td>\n",
       "      <td>0</td>\n",
       "    </tr>\n",
       "  </tbody>\n",
       "</table>\n",
       "<p>5 rows × 31 columns</p>\n",
       "</div>"
      ],
      "text/plain": [
       "   Time        V1        V2        V3        V4        V5        V6        V7  \\\n",
       "0   0.0 -1.359807 -0.072781  2.536347  1.378155 -0.338321  0.462388  0.239599   \n",
       "1   0.0  1.191857  0.266151  0.166480  0.448154  0.060018 -0.082361 -0.078803   \n",
       "2   1.0 -1.358354 -1.340163  1.773209  0.379780 -0.503198  1.800499  0.791461   \n",
       "3   1.0 -0.966272 -0.185226  1.792993 -0.863291 -0.010309  1.247203  0.237609   \n",
       "4   2.0 -1.158233  0.877737  1.548718  0.403034 -0.407193  0.095921  0.592941   \n",
       "\n",
       "         V8        V9  ...       V21       V22       V23       V24       V25  \\\n",
       "0  0.098698  0.363787  ... -0.018307  0.277838 -0.110474  0.066928  0.128539   \n",
       "1  0.085102 -0.255425  ... -0.225775 -0.638672  0.101288 -0.339846  0.167170   \n",
       "2  0.247676 -1.514654  ...  0.247998  0.771679  0.909412 -0.689281 -0.327642   \n",
       "3  0.377436 -1.387024  ... -0.108300  0.005274 -0.190321 -1.175575  0.647376   \n",
       "4 -0.270533  0.817739  ... -0.009431  0.798278 -0.137458  0.141267 -0.206010   \n",
       "\n",
       "        V26       V27       V28  Amount  Class  \n",
       "0 -0.189115  0.133558 -0.021053  149.62      0  \n",
       "1  0.125895 -0.008983  0.014724    2.69      0  \n",
       "2 -0.139097 -0.055353 -0.059752  378.66      0  \n",
       "3 -0.221929  0.062723  0.061458  123.50      0  \n",
       "4  0.502292  0.219422  0.215153   69.99      0  \n",
       "\n",
       "[5 rows x 31 columns]"
      ]
     },
     "execution_count": 5,
     "metadata": {},
     "output_type": "execute_result"
    }
   ],
   "source": [
    "df.head()"
   ]
  },
  {
   "cell_type": "code",
   "execution_count": 6,
   "metadata": {},
   "outputs": [
    {
     "name": "stdout",
     "output_type": "stream",
     "text": [
      "<class 'pandas.core.frame.DataFrame'>\n",
      "RangeIndex: 284807 entries, 0 to 284806\n",
      "Data columns (total 31 columns):\n",
      " #   Column  Non-Null Count   Dtype  \n",
      "---  ------  --------------   -----  \n",
      " 0   Time    284807 non-null  float64\n",
      " 1   V1      284807 non-null  float64\n",
      " 2   V2      284807 non-null  float64\n",
      " 3   V3      284807 non-null  float64\n",
      " 4   V4      284807 non-null  float64\n",
      " 5   V5      284807 non-null  float64\n",
      " 6   V6      284807 non-null  float64\n",
      " 7   V7      284807 non-null  float64\n",
      " 8   V8      284807 non-null  float64\n",
      " 9   V9      284807 non-null  float64\n",
      " 10  V10     284807 non-null  float64\n",
      " 11  V11     284807 non-null  float64\n",
      " 12  V12     284807 non-null  float64\n",
      " 13  V13     284807 non-null  float64\n",
      " 14  V14     284807 non-null  float64\n",
      " 15  V15     284807 non-null  float64\n",
      " 16  V16     284807 non-null  float64\n",
      " 17  V17     284807 non-null  float64\n",
      " 18  V18     284807 non-null  float64\n",
      " 19  V19     284807 non-null  float64\n",
      " 20  V20     284807 non-null  float64\n",
      " 21  V21     284807 non-null  float64\n",
      " 22  V22     284807 non-null  float64\n",
      " 23  V23     284807 non-null  float64\n",
      " 24  V24     284807 non-null  float64\n",
      " 25  V25     284807 non-null  float64\n",
      " 26  V26     284807 non-null  float64\n",
      " 27  V27     284807 non-null  float64\n",
      " 28  V28     284807 non-null  float64\n",
      " 29  Amount  284807 non-null  float64\n",
      " 30  Class   284807 non-null  int64  \n",
      "dtypes: float64(30), int64(1)\n",
      "memory usage: 67.4 MB\n"
     ]
    }
   ],
   "source": [
    "df.info()"
   ]
  },
  {
   "cell_type": "markdown",
   "metadata": {},
   "source": [
    "Having a look at the dataset, we see that there are *no missing data (no Null values*), so no need for data imputation from my side.\n",
    "\n",
    "There are exactly 31 features, and 284,807 records. The features are the following: \n",
    "\n",
    "- **Time**: Number of seconds elapsed between a transaction and the first transaction in the dataset\n",
    "- **Amount**: Amount of transaction (possibly in EUR)\n",
    "- **Class**: \"Class 0\" stands for non-fraudulent transactions, and \"Class 1\" for fraudulent ones\n",
    "- **V1-V28**: Anonymized features that may contain sensitive consumer information / personal data\n",
    "\n",
    "I will start by checking the distribution of the features we are more aware of: *Time, Amount, Class*."
   ]
  },
  {
   "cell_type": "code",
   "execution_count": 7,
   "metadata": {},
   "outputs": [
    {
     "data": {
      "image/png": "[encoded data removed]",
      "text/plain": [
       "<Figure size 576x288 with 1 Axes>"
      ]
     },
     "metadata": {
      "needs_background": "light"
     },
     "output_type": "display_data"
    }
   ],
   "source": [
    "#TIME : distribution of its values\n",
    "fig, ax = plt.subplots(figsize=(8,4)) \n",
    "ax = sns.kdeplot(df['Time'], shade=True);"
   ]
  },
  {
   "cell_type": "markdown",
   "metadata": {},
   "source": [
    "We know that **Time** represents *Seconds elapsed since first transaction in the dataset*, and that the dataset includes transactions *over 2 days*. Indeed, an hour has 3600 sec -> 48h correspond to 3600 x 48 = 172,800 sec. This is in line with what we see on axis x of the graph. \n",
    "\n",
    "As we are not aware of the *exact timestamp* of the first transaction, we cannot know much about when during the day the *peaks of activity* (35,000-75,000 and 125,000 - 165,000) occur. A fair assumption would be that peaks correspond to \"daytime\", while low activity reflects \"sleeping time\"."
   ]
  },
  {
   "cell_type": "code",
   "execution_count": 8,
   "metadata": {},
   "outputs": [
    {
     "data": {
      "image/png": "[encoded data removed]",
      "text/plain": [
       "<Figure size 576x288 with 1 Axes>"
      ]
     },
     "metadata": {
      "needs_background": "light"
     },
     "output_type": "display_data"
    }
   ],
   "source": [
    "#AMOUNT : distribution of its values\n",
    "fig, ax = plt.subplots(figsize=(8,4)) \n",
    "ax = sns.distplot(df['Amount']);\n",
    "ax.xaxis.set_major_locator(ticker.MultipleLocator(3000))\n",
    "ax.xaxis.set_major_formatter(ticker.ScalarFormatter())"
   ]
  },
  {
   "cell_type": "markdown",
   "metadata": {},
   "source": [
    "It is clear that the **Amount** of the large majority of the transactions, is under 1000. This is in line with our intuition, as people do use their credit card in many small everyday transactions. Of course, there is also a minor portion of transactions valued above 1000."
   ]
  },
  {
   "cell_type": "code",
   "execution_count": 9,
   "metadata": {},
   "outputs": [
    {
     "name": "stdout",
     "output_type": "stream",
     "text": [
      "Non-Fraudulent transactions: 284315, which is 99.8% of the dataset\n",
      "Fraudulent transactions: 492, which is 0.2% of the dataset\n"
     ]
    }
   ],
   "source": [
    "# CLASS : let's check how many transactions are fraudulent, and how many are not\n",
    "not_fraud_df = df[df['Class'] == 0]\n",
    "fraud_df = df[df['Class'] == 1]\n",
    "\n",
    "print('Non-Fraudulent transactions: {}, which is {:.1%} of the dataset'.format(len(not_fraud_df.index), len(not_fraud_df.index)/len(df)))\n",
    "print('Fraudulent transactions: {}, which is {:.1%} of the dataset'.format(len(fraud_df.index), len(fraud_df.index)/len(df)))"
   ]
  },
  {
   "cell_type": "code",
   "execution_count": 10,
   "metadata": {},
   "outputs": [
    {
     "data": {
      "image/png": "[encoded data removed]",
      "text/plain": [
       "<Figure size 576x288 with 1 Axes>"
      ]
     },
     "metadata": {
      "needs_background": "light"
     },
     "output_type": "display_data"
    }
   ],
   "source": [
    "#We can also look into it in a graph:\n",
    "fig, ax = plt.subplots(figsize=(8,4)) \n",
    "ax = sns.countplot(x=\"Class\", data= df)"
   ]
  },
  {
   "cell_type": "markdown",
   "metadata": {},
   "source": [
    "There are **492 frauds**, only *0.2%* of the dataset. That is an **Imbalanced Dataset**. As the dataset is heavily skewed, we better not use it as-is for training our model, as its learning might be greatly biased by this uneven distribution. \n",
    "\n",
    "## Dealing with Imbalanced Datasets\n",
    "\n",
    "The bibliograghy suggests a variety of measures for overcoming the challenge of imbalanced datasets, such as:\n",
    "\n",
    "* *Collecting more data* (if possible)\n",
    "* *Resampling the dataset* (oversampling the under-represented class, or undersampling the over-represented class)\n",
    "* *Choosing wisely the performance metric* ('Accuracy' is not advised)\n",
    "* *Use penalized learning algorithms* (imposing cost on the model for mis-classifying the minority class\n",
    "* *Try several algorithms to compare results* (such as Multiple Classifier Systems)\n",
    "\n",
    "In this occassion, the dataset is finite, so *collecting more data* is not possible. However, in another business scenario, enriching the dataset with more data could balance to a good extent the two classes. For this problem we will use a combination of other measures, namely: resampling / relevant performance metrics / a variety of algorithms.\n",
    "\n",
    "### Resampling\n",
    "In order to train the model with an even collection of fraudulent and non-fraudulent cases, we will extract at random 492 records of non-fraudulent transactions, and concatenate the two sets of 492 records, in order to create our training set. This method of extracting just a part of the majority class, is the aforementioned **\"undersampling\"**."
   ]
  },
  {
   "cell_type": "code",
   "execution_count": 11,
   "metadata": {},
   "outputs": [],
   "source": [
    "# picking 492 random non-fraud records\n",
    "not_fraud_temp = not_fraud_df.sample(492)"
   ]
  },
  {
   "cell_type": "code",
   "execution_count": 12,
   "metadata": {},
   "outputs": [
    {
     "data": {
      "text/plain": [
       "(492, 31)"
      ]
     },
     "execution_count": 12,
     "metadata": {},
     "output_type": "execute_result"
    }
   ],
   "source": [
    "# checking the dataframe dimensions\n",
    "not_fraud_temp.shape"
   ]
  },
  {
   "cell_type": "code",
   "execution_count": 13,
   "metadata": {},
   "outputs": [],
   "source": [
    "#lets concatenate the two\n",
    "balanced_df = pd.concat([not_fraud_temp, fraud_df])"
   ]
  },
  {
   "cell_type": "code",
   "execution_count": 14,
   "metadata": {},
   "outputs": [
    {
     "name": "stdout",
     "output_type": "stream",
     "text": [
      "Non-Fraudulent transactions: 492, which is 50.0% of the dataset\n",
      "Fraudulent transactions: 492, which is 50.0% of the dataset\n"
     ]
    }
   ],
   "source": [
    "#lets see if we got it right\n",
    "not_fraud_df = balanced_df[balanced_df['Class'] == 0]\n",
    "fraud_df = balanced_df[balanced_df['Class'] == 1]\n",
    "\n",
    "print('Non-Fraudulent transactions: {}, which is {:.1%} of the dataset'.format(len(not_fraud_df.index), len(not_fraud_df.index)/len(balanced_df)))\n",
    "print('Fraudulent transactions: {}, which is {:.1%} of the dataset'.format(len(fraud_df.index), len(fraud_df.index)/len(balanced_df)))"
   ]
  },
  {
   "cell_type": "markdown",
   "metadata": {},
   "source": [
    "As per above, we confirmed that the newly formed dataset contains an equal mix of both classes. We can also *shuffle* the records randomly within the dataset:"
   ]
  },
  {
   "cell_type": "code",
   "execution_count": 15,
   "metadata": {},
   "outputs": [],
   "source": [
    "#we will shuffle a bit\n",
    "balanced_df = balanced_df.sample(frac=1).reset_index(drop=True)"
   ]
  },
  {
   "cell_type": "code",
   "execution_count": 16,
   "metadata": {},
   "outputs": [
    {
     "data": {
      "text/html": [
       "<div>\n",
       "<style scoped>\n",
       "    .dataframe tbody tr th:only-of-type {\n",
       "        vertical-align: middle;\n",
       "    }\n",
       "\n",
       "    .dataframe tbody tr th {\n",
       "        vertical-align: top;\n",
       "    }\n",
       "\n",
       "    .dataframe thead th {\n",
       "        text-align: right;\n",
       "    }\n",
       "</style>\n",
       "<table border=\"1\" class=\"dataframe\">\n",
       "  <thead>\n",
       "    <tr style=\"text-align: right;\">\n",
       "      <th></th>\n",
       "      <th>Time</th>\n",
       "      <th>V1</th>\n",
       "      <th>V2</th>\n",
       "      <th>V3</th>\n",
       "      <th>V4</th>\n",
       "      <th>V5</th>\n",
       "      <th>V6</th>\n",
       "      <th>V7</th>\n",
       "      <th>V8</th>\n",
       "      <th>V9</th>\n",
       "      <th>...</th>\n",
       "      <th>V21</th>\n",
       "      <th>V22</th>\n",
       "      <th>V23</th>\n",
       "      <th>V24</th>\n",
       "      <th>V25</th>\n",
       "      <th>V26</th>\n",
       "      <th>V27</th>\n",
       "      <th>V28</th>\n",
       "      <th>Amount</th>\n",
       "      <th>Class</th>\n",
       "    </tr>\n",
       "  </thead>\n",
       "  <tbody>\n",
       "    <tr>\n",
       "      <th>0</th>\n",
       "      <td>147168.0</td>\n",
       "      <td>-1.462843</td>\n",
       "      <td>1.841591</td>\n",
       "      <td>-1.132265</td>\n",
       "      <td>-0.763961</td>\n",
       "      <td>-0.400711</td>\n",
       "      <td>-0.757969</td>\n",
       "      <td>-0.275847</td>\n",
       "      <td>1.324719</td>\n",
       "      <td>-0.314714</td>\n",
       "      <td>...</td>\n",
       "      <td>-0.166933</td>\n",
       "      <td>-0.623177</td>\n",
       "      <td>0.194957</td>\n",
       "      <td>-0.426889</td>\n",
       "      <td>-0.339866</td>\n",
       "      <td>0.164637</td>\n",
       "      <td>0.085875</td>\n",
       "      <td>0.003923</td>\n",
       "      <td>1.98</td>\n",
       "      <td>0</td>\n",
       "    </tr>\n",
       "    <tr>\n",
       "      <th>1</th>\n",
       "      <td>64093.0</td>\n",
       "      <td>-6.133987</td>\n",
       "      <td>2.941499</td>\n",
       "      <td>-5.593986</td>\n",
       "      <td>3.258845</td>\n",
       "      <td>-5.315512</td>\n",
       "      <td>-0.637328</td>\n",
       "      <td>-4.476488</td>\n",
       "      <td>1.695994</td>\n",
       "      <td>-1.606743</td>\n",
       "      <td>...</td>\n",
       "      <td>0.868340</td>\n",
       "      <td>0.793736</td>\n",
       "      <td>0.217347</td>\n",
       "      <td>-0.021985</td>\n",
       "      <td>0.145882</td>\n",
       "      <td>0.665088</td>\n",
       "      <td>-1.684186</td>\n",
       "      <td>0.310195</td>\n",
       "      <td>294.90</td>\n",
       "      <td>1</td>\n",
       "    </tr>\n",
       "    <tr>\n",
       "      <th>2</th>\n",
       "      <td>42247.0</td>\n",
       "      <td>-2.524012</td>\n",
       "      <td>2.098152</td>\n",
       "      <td>-4.946075</td>\n",
       "      <td>6.456588</td>\n",
       "      <td>3.173921</td>\n",
       "      <td>-3.058806</td>\n",
       "      <td>-0.184710</td>\n",
       "      <td>-0.390420</td>\n",
       "      <td>-3.649812</td>\n",
       "      <td>...</td>\n",
       "      <td>0.027935</td>\n",
       "      <td>0.220366</td>\n",
       "      <td>0.976348</td>\n",
       "      <td>-0.290539</td>\n",
       "      <td>1.161002</td>\n",
       "      <td>0.663954</td>\n",
       "      <td>0.456023</td>\n",
       "      <td>-0.405682</td>\n",
       "      <td>1.00</td>\n",
       "      <td>1</td>\n",
       "    </tr>\n",
       "    <tr>\n",
       "      <th>3</th>\n",
       "      <td>96206.0</td>\n",
       "      <td>-0.673567</td>\n",
       "      <td>0.676251</td>\n",
       "      <td>1.355359</td>\n",
       "      <td>0.069156</td>\n",
       "      <td>0.538306</td>\n",
       "      <td>-0.486402</td>\n",
       "      <td>0.853561</td>\n",
       "      <td>-0.284482</td>\n",
       "      <td>1.033618</td>\n",
       "      <td>...</td>\n",
       "      <td>-0.017872</td>\n",
       "      <td>0.356323</td>\n",
       "      <td>-0.459748</td>\n",
       "      <td>-0.070829</td>\n",
       "      <td>0.903309</td>\n",
       "      <td>0.462327</td>\n",
       "      <td>-0.010298</td>\n",
       "      <td>0.050957</td>\n",
       "      <td>49.20</td>\n",
       "      <td>0</td>\n",
       "    </tr>\n",
       "    <tr>\n",
       "      <th>4</th>\n",
       "      <td>71654.0</td>\n",
       "      <td>-1.429187</td>\n",
       "      <td>1.559601</td>\n",
       "      <td>0.285720</td>\n",
       "      <td>-0.882398</td>\n",
       "      <td>0.025204</td>\n",
       "      <td>0.038728</td>\n",
       "      <td>-0.003162</td>\n",
       "      <td>0.968880</td>\n",
       "      <td>-0.197083</td>\n",
       "      <td>...</td>\n",
       "      <td>-0.169406</td>\n",
       "      <td>-0.427792</td>\n",
       "      <td>-0.067647</td>\n",
       "      <td>-0.900268</td>\n",
       "      <td>-0.029222</td>\n",
       "      <td>0.392328</td>\n",
       "      <td>0.179196</td>\n",
       "      <td>0.102101</td>\n",
       "      <td>4.00</td>\n",
       "      <td>0</td>\n",
       "    </tr>\n",
       "  </tbody>\n",
       "</table>\n",
       "<p>5 rows × 31 columns</p>\n",
       "</div>"
      ],
      "text/plain": [
       "       Time        V1        V2        V3        V4        V5        V6  \\\n",
       "0  147168.0 -1.462843  1.841591 -1.132265 -0.763961 -0.400711 -0.757969   \n",
       "1   64093.0 -6.133987  2.941499 -5.593986  3.258845 -5.315512 -0.637328   \n",
       "2   42247.0 -2.524012  2.098152 -4.946075  6.456588  3.173921 -3.058806   \n",
       "3   96206.0 -0.673567  0.676251  1.355359  0.069156  0.538306 -0.486402   \n",
       "4   71654.0 -1.429187  1.559601  0.285720 -0.882398  0.025204  0.038728   \n",
       "\n",
       "         V7        V8        V9  ...       V21       V22       V23       V24  \\\n",
       "0 -0.275847  1.324719 -0.314714  ... -0.166933 -0.623177  0.194957 -0.426889   \n",
       "1 -4.476488  1.695994 -1.606743  ...  0.868340  0.793736  0.217347 -0.021985   \n",
       "2 -0.184710 -0.390420 -3.649812  ...  0.027935  0.220366  0.976348 -0.290539   \n",
       "3  0.853561 -0.284482  1.033618  ... -0.017872  0.356323 -0.459748 -0.070829   \n",
       "4 -0.003162  0.968880 -0.197083  ... -0.169406 -0.427792 -0.067647 -0.900268   \n",
       "\n",
       "        V25       V26       V27       V28  Amount  Class  \n",
       "0 -0.339866  0.164637  0.085875  0.003923    1.98      0  \n",
       "1  0.145882  0.665088 -1.684186  0.310195  294.90      1  \n",
       "2  1.161002  0.663954  0.456023 -0.405682    1.00      1  \n",
       "3  0.903309  0.462327 -0.010298  0.050957   49.20      0  \n",
       "4 -0.029222  0.392328  0.179196  0.102101    4.00      0  \n",
       "\n",
       "[5 rows x 31 columns]"
      ]
     },
     "execution_count": 16,
     "metadata": {},
     "output_type": "execute_result"
    }
   ],
   "source": [
    "balanced_df.head()"
   ]
  },
  {
   "cell_type": "markdown",
   "metadata": {},
   "source": [
    "We can check the resulting dataset for correlations. As mentioned, the V1-V28 data are obfuscated, so we cannot draw many conclusions about their nature. However, we can still check if there is a strong correlation between them and the 'Class' (Non-Fraud/Fraud):"
   ]
  },
  {
   "cell_type": "code",
   "execution_count": 17,
   "metadata": {},
   "outputs": [],
   "source": [
    "# Correlation of the entire DataFrame\n",
    "corr = balanced_df.corr()\n",
    "\n",
    "# create a mask to show only one triangle of correlation heatmap\n",
    "mask = np.zeros_like(corr)\n",
    "mask[np.triu_indices_from(mask)] = True"
   ]
  },
  {
   "cell_type": "code",
   "execution_count": 18,
   "metadata": {
    "scrolled": false
   },
   "outputs": [
    {
     "data": {
      "image/png": "[encoded data removed]",
      "text/plain": [
       "<Figure size 720x576 with 2 Axes>"
      ]
     },
     "metadata": {
      "needs_background": "light"
     },
     "output_type": "display_data"
    }
   ],
   "source": [
    "fig, ax = plt.subplots(figsize=(10,8)) \n",
    "ax = sns.heatmap(corr,linewidths=.01, mask=mask, cmap=\"YlGnBu\")"
   ]
  },
  {
   "cell_type": "markdown",
   "metadata": {},
   "source": [
    "We see that **'Class'** has some level of correlation with features V2, V4 ,V11. **'Amount'** is more *correlated* with V6, V7: presumably these features are quite relevant to one's spending habits (e.g. \"annual income\" of the cardholder). It is worth mentioning that **'Class'** is also *negatively correlated* with some features, such as V9, V10 and V16-V18."
   ]
  },
  {
   "cell_type": "markdown",
   "metadata": {},
   "source": [
    "### Classification Metrics\n",
    "\n",
    "The purpose is to identify and train a machine learning model that is characterized by **\"high performance\"** in this classification problem. However, what **metric** would denote \"high performance\" in our case? The main metrics used to evaluate a classification model are accuracy, precision, and recall. They are nicely described in detail \n",
    "<a href=\"https://en.wikipedia.org/wiki/Precision_and_recall\" target=\"_blank\">here</a> and <a href=\"https://www.jeremyjordan.me/evaluating-a-machine-learning-model/\" target=\"_blank\">here</a>.\n",
    "\n",
    "In short:\n",
    "* **Accuracy** is the percentage of *total correct predictions* over the *full dataset*.\n",
    "* **Precision** is the percentage of *relevant records* over all records predicted to *belong in a certain class*.\n",
    "* **Recall** is the percentage of *records which were predicted to belong to a class*, over all records that *truly belong in the class*.\n",
    "\n",
    "As a reminder, in classification problems, a classification decision can result in one out of four things:\n",
    "* **True Positive (TP)**: We predict that record X *belongs* in a certain class, and it actually *belongs* in that class.\n",
    "* **True Negative (TN)**: We predict that record X *does not belong* in a certain class, and it actually *does not belong* in that class.\n",
    "* **False Positive (FP)**: We predict that record X *belongs* in a certain class, and it actually *does not belong* in that class.\n",
    "* **False Negative (FN)**: We predict that record X *does not belong* in a certain class, and it actually *belongs* in that class.\n",
    "\n",
    "These are clearly depicted in the so-called Confusion Matrix, which I will also show later on.\n",
    "\n",
    "Based on the above descriptions, the aforementioned metrics are defined as:\n",
    "* Accuracy = (TP+TN)/Total\n",
    "* Precision = TP/(TP+FP)\n",
    "* Recall = TP/(TP+FN)\n",
    "\n",
    "One might feel tempted to choose Accuracy as our performance metric - which is also the most intuitive concept. However, *this is not a good KPI for a classification problem*: Let's imagine a scenario where our classifier labels **all records as Class 0** (non-fraudulent). Technically, this means that the algorithm has a **99.8% Accuracy, which is a misleading outcome**! This line of thinking is flawed, as the algorithm disregards completely the fraudulent entries.\n",
    "\n",
    "In Classifications problems, we should focus more on the two metrics of Recall and Precision. Luckily, there is a metric combining them, the harmonic mean of both, also known as F1 score: \n",
    "* F1-score = 2 * ( Precision * Recall) / (Precision + Recall)\n",
    "\n",
    "\n",
    "### AUC-ROC Curve\n",
    "\n",
    "As an alternative to the F1 score, the model can be further evaluated in a \"graphic way\", thanks to the **Area Under Curve - Receiver Operating Characteristic (AUC - ROC)** metric. This is the plot of the true positive rate (Recall) against the false positive rate. By plotting the ROC curve for different models, and by observing which curve achieved the larger area-under-the-curve, we can define which model performed best. \n",
    "\n",
    "The AOC-ROC measure of scikit-learn outputs a number within [0,1], where 0.5 signifies the performance of random guessing. A model performs better when scoring closer to 1. We will use that as well in the selection process."
   ]
  },
  {
   "cell_type": "markdown",
   "metadata": {},
   "source": [
    "### Testing various learning algorithms\n",
    "\n",
    "I will test six of the most popular models for classifications: Gaussian naive Bayes, Logistic regression, K-Neighbours, Random Forests, XGBoost, Support Vector Machine (SVM). Through this practical experimentation, I will be able to pick the learning model that performs best, and then *tune its hyperparameters* as the final step."
   ]
  },
  {
   "cell_type": "code",
   "execution_count": 19,
   "metadata": {},
   "outputs": [],
   "source": [
    "#importing some of the most popular models:\n",
    "from xgboost import XGBClassifier\n",
    "from sklearn.ensemble import RandomForestClassifier\n",
    "from sklearn.naive_bayes import GaussianNB\n",
    "from sklearn.linear_model import LogisticRegressionCV\n",
    "from sklearn.svm import SVC\n",
    "from sklearn.neighbors import KNeighborsClassifier"
   ]
  },
  {
   "cell_type": "markdown",
   "metadata": {},
   "source": [
    "## Model Training & Performance Evaluation\n",
    "\n",
    "Let's start by spliting the input variables (X) and target variable (y), of our dataset, for the model training:"
   ]
  },
  {
   "cell_type": "code",
   "execution_count": 20,
   "metadata": {},
   "outputs": [],
   "source": [
    "# X are the input variables, and y the target variable ('Class')\n",
    "X = balanced_df.drop('Class', axis=1)\n",
    "y = balanced_df['Class']"
   ]
  },
  {
   "cell_type": "markdown",
   "metadata": {},
   "source": [
    "I will perform a 70/30 train-test split of the data: 70% will be used asa training dataset, while 30% will be the test dataset, and it will not be exposed to the ML algorithms until the very end - as it will be used to evaluate the prediction performance of the final model."
   ]
  },
  {
   "cell_type": "code",
   "execution_count": 21,
   "metadata": {},
   "outputs": [
    {
     "name": "stdout",
     "output_type": "stream",
     "text": [
      "Sizes of sets:\n",
      "X_train: (688, 30)  X_test: (296, 30)\n",
      "Y_train: (688,)  Y_test: (296,)\n"
     ]
    }
   ],
   "source": [
    "from sklearn.model_selection import train_test_split\n",
    "\n",
    "# splitting the dataset with 30% test \n",
    "X_train, X_test, y_train, y_test = train_test_split(X, y, test_size=0.3, random_state=42)\n",
    "\n",
    "# turn the values into an array, for feeding the classification algorithms.\n",
    "X_train = X_train.values\n",
    "X_test = X_test.values\n",
    "y_train = y_train.values\n",
    "y_test = y_test.values\n",
    "\n",
    "print ('Sizes of sets:')\n",
    "print('X_train:', X_train.shape, ' X_test:', X_test.shape)\n",
    "print('Y_train:', y_train.shape, ' Y_test:',  y_test.shape)"
   ]
  },
  {
   "cell_type": "markdown",
   "metadata": {},
   "source": [
    "### K-fold Cross-Validation\n",
    "\n",
    "For each of the algorithms, I will follow the resampling technique of **k-fold cross-validation**:\n",
    "This method splits the training dataset further into *k parts (folds)*, and then *fits the model on k-1 folds* (*temporary \"training\" data*) before making *predictions for the kth fold* (*temporary \"test\" data*). This process is repeated k times, leaving (holding-out) each time a different fold as the \"test\" data. For each of the k runs, we calculate the model performance measures, and finally the overall model performance is calculated as the average of those k performance measures. In terms of the 'measure', I will make use of the both the **f1 score** and the **AUC-ROC score**, as per the above.\n",
    "\n",
    "\n",
    "### Normalization\n",
    "\n",
    "By employing the below function, we can firstly verify the **min & max** value per feature, and witness that there are some differences in scale:"
   ]
  },
  {
   "cell_type": "code",
   "execution_count": 22,
   "metadata": {},
   "outputs": [
    {
     "data": {
      "text/html": [
       "<div>\n",
       "<style scoped>\n",
       "    .dataframe tbody tr th:only-of-type {\n",
       "        vertical-align: middle;\n",
       "    }\n",
       "\n",
       "    .dataframe tbody tr th {\n",
       "        vertical-align: top;\n",
       "    }\n",
       "\n",
       "    .dataframe thead th {\n",
       "        text-align: right;\n",
       "    }\n",
       "</style>\n",
       "<table border=\"1\" class=\"dataframe\">\n",
       "  <thead>\n",
       "    <tr style=\"text-align: right;\">\n",
       "      <th></th>\n",
       "      <th>Time</th>\n",
       "      <th>V1</th>\n",
       "      <th>V2</th>\n",
       "      <th>V3</th>\n",
       "      <th>V4</th>\n",
       "      <th>V5</th>\n",
       "      <th>V6</th>\n",
       "      <th>V7</th>\n",
       "      <th>V8</th>\n",
       "      <th>V9</th>\n",
       "      <th>...</th>\n",
       "      <th>V21</th>\n",
       "      <th>V22</th>\n",
       "      <th>V23</th>\n",
       "      <th>V24</th>\n",
       "      <th>V25</th>\n",
       "      <th>V26</th>\n",
       "      <th>V27</th>\n",
       "      <th>V28</th>\n",
       "      <th>Amount</th>\n",
       "      <th>Class</th>\n",
       "    </tr>\n",
       "  </thead>\n",
       "  <tbody>\n",
       "    <tr>\n",
       "      <th>min</th>\n",
       "      <td>50.0</td>\n",
       "      <td>-30.552380</td>\n",
       "      <td>-13.158419</td>\n",
       "      <td>-31.103685</td>\n",
       "      <td>-4.102214</td>\n",
       "      <td>-22.105532</td>\n",
       "      <td>-8.181825</td>\n",
       "      <td>-43.557242</td>\n",
       "      <td>-41.044261</td>\n",
       "      <td>-13.434066</td>\n",
       "      <td>...</td>\n",
       "      <td>-22.797604</td>\n",
       "      <td>-8.887017</td>\n",
       "      <td>-19.254328</td>\n",
       "      <td>-2.028024</td>\n",
       "      <td>-4.781606</td>\n",
       "      <td>-1.315735</td>\n",
       "      <td>-7.263482</td>\n",
       "      <td>-2.648540</td>\n",
       "      <td>0.0</td>\n",
       "      <td>0</td>\n",
       "    </tr>\n",
       "    <tr>\n",
       "      <th>max</th>\n",
       "      <td>172544.0</td>\n",
       "      <td>2.399433</td>\n",
       "      <td>22.057729</td>\n",
       "      <td>3.446470</td>\n",
       "      <td>12.114672</td>\n",
       "      <td>11.758819</td>\n",
       "      <td>6.474115</td>\n",
       "      <td>7.501867</td>\n",
       "      <td>20.007208</td>\n",
       "      <td>7.381458</td>\n",
       "      <td>...</td>\n",
       "      <td>27.202839</td>\n",
       "      <td>8.361985</td>\n",
       "      <td>8.328967</td>\n",
       "      <td>1.204603</td>\n",
       "      <td>2.208209</td>\n",
       "      <td>2.745261</td>\n",
       "      <td>3.052358</td>\n",
       "      <td>1.787492</td>\n",
       "      <td>3980.0</td>\n",
       "      <td>1</td>\n",
       "    </tr>\n",
       "  </tbody>\n",
       "</table>\n",
       "<p>2 rows × 31 columns</p>\n",
       "</div>"
      ],
      "text/plain": [
       "         Time         V1         V2         V3         V4         V5  \\\n",
       "min      50.0 -30.552380 -13.158419 -31.103685  -4.102214 -22.105532   \n",
       "max  172544.0   2.399433  22.057729   3.446470  12.114672  11.758819   \n",
       "\n",
       "           V6         V7         V8         V9  ...        V21       V22  \\\n",
       "min -8.181825 -43.557242 -41.044261 -13.434066  ... -22.797604 -8.887017   \n",
       "max  6.474115   7.501867  20.007208   7.381458  ...  27.202839  8.361985   \n",
       "\n",
       "           V23       V24       V25       V26       V27       V28  Amount  \\\n",
       "min -19.254328 -2.028024 -4.781606 -1.315735 -7.263482 -2.648540     0.0   \n",
       "max   8.328967  1.204603  2.208209  2.745261  3.052358  1.787492  3980.0   \n",
       "\n",
       "     Class  \n",
       "min      0  \n",
       "max      1  \n",
       "\n",
       "[2 rows x 31 columns]"
      ]
     },
     "execution_count": 22,
     "metadata": {},
     "output_type": "execute_result"
    }
   ],
   "source": [
    "#Lets check min/max per column: \n",
    "def minMax(x):\n",
    "    return pd.Series(index=['min','max'],data=[x.min(),x.max()])\n",
    "\n",
    "balanced_df.apply(minMax)"
   ]
  },
  {
   "cell_type": "markdown",
   "metadata": {},
   "source": [
    "We see that **'Time'** and **'Amount'** are of different scales compared to **V1, V2, … V28**, so it is worth normalizing: The goal of normalization is to transform the values of numeric columns in order to reflect *a common scale*, without large differences. This will help gradient descents to converge more quickly and the model to achieve better performance.\n",
    "\n",
    "**Important note**: If we normalize the data *before* the cross-validation, we actually *leak information about the distribution of the test data* into the way we normalize the training data. Essentially, we allow data that goes on to become the test set, to **\"spill over\"** and affect our training set, potentially causing overly optimistic performance metrics. In other words, although we are not using directly the test data for training our model, we still 'reveal' information about the test data into the training process *('contamination')*. We can handle this issue by performing the normalization **inside the cross-validation** and **only on the training data** of each k-th run. This will be achieved via the Pipeline function of scikit-learn, which 'glues together' our normalizer (Standard Scaler), and the classifier.\n",
    "\n",
    "Let's proceed with the training:"
   ]
  },
  {
   "cell_type": "code",
   "execution_count": 26,
   "metadata": {},
   "outputs": [
    {
     "name": "stdout",
     "output_type": "stream",
     "text": [
      "XGB -> ROC AUC score: 98.71%,  F1 score: 95.20% \n",
      "RF -> ROC AUC score: 98.31%,  F1 score: 94.20% \n",
      "GNB -> ROC AUC score: 96.03%,  F1 score: 91.05% \n",
      "LR -> ROC AUC score: 98.26%,  F1 score: 94.57% \n",
      "SVM -> ROC AUC score: 98.45%,  F1 score: 92.60% \n",
      "KN -> ROC AUC score: 95.04%,  F1 score: 90.69% \n"
     ]
    }
   ],
   "source": [
    "from sklearn.preprocessing import StandardScaler\n",
    "from sklearn.model_selection import KFold\n",
    "from sklearn.model_selection import cross_val_score\n",
    "from sklearn.pipeline import Pipeline\n",
    "from sklearn import metrics \n",
    "\n",
    "algorithms = [] #this is a list holding our algorithm name abbreviations & models\n",
    "\n",
    "algorithms.append(('XGB', XGBClassifier()))\n",
    "algorithms.append(('RF', RandomForestClassifier()))\n",
    "algorithms.append(('GNB', GaussianNB()))\n",
    "algorithms.append(('LR', LogisticRegressionCV(max_iter=4000)))\n",
    "algorithms.append(('SVM', SVC()))\n",
    "algorithms.append(('KN', KNeighborsClassifier()))\n",
    "\n",
    "for i, algorithm in algorithms:\n",
    "    #instantiate Pipeline, in order to perform normalization within each K-fold of each algorithm:\n",
    "    pipe = Pipeline ([\n",
    "        ('scaler', StandardScaler()),\n",
    "        ('algo',algorithm)\n",
    "    ])\n",
    "    \n",
    "    kfold = KFold(n_splits=10, shuffle = True, random_state=42) #we define 10 folds for this cross-validation\n",
    "    cv_roc = cross_val_score(pipe, X_train, y_train, cv=kfold, scoring='roc_auc') #calculating roc-auc score of the algorithm\n",
    "    cv_f1 = cross_val_score(pipe, X_train, y_train, cv=kfold, scoring='f1') #calculating f1 score of the algorithm\n",
    "\n",
    "    print('{} -> ROC AUC score: {:.2%},  F1 score: {:.2%} '.format(i, cv_roc.mean(),cv_f1.mean()))"
   ]
  },
  {
   "cell_type": "markdown",
   "metadata": {},
   "source": [
    "Looking at the classification results (ROC-AUC and F1 score), we observe that *XGBoost* and *Random Forest* classifiers outperform the others (XGBoost being slightly better). They both use tree ensembles, which seem to perform excellent in our classification problem. Between the two, I will proceed with **Random Forest**, due to its more intuitive nature, and work on tuning its hyperparameters. <a href=\"https://towardsdatascience.com/an-implementation-and-explanation-of-the-random-forest-in-python-77bf308a9b76#:~:text=The%20random%20forest%20combines%20hundreds,predictions%20of%20each%20individual%20tree\" target=\"_blank\">Here</a> is an excellent article explaining in detail Decision Trees and Random Forests."
   ]
  },
  {
   "cell_type": "markdown",
   "metadata": {},
   "source": [
    "## Tuning model hyperparameters\n",
    "\n",
    "Let's create a performance **Baseline**, by creating a random... Random Forest, and check how well it predicts our *test values*, if trained with the training dataset:"
   ]
  },
  {
   "cell_type": "code",
   "execution_count": 27,
   "metadata": {},
   "outputs": [
    {
     "name": "stdout",
     "output_type": "stream",
     "text": [
      "F1 Score (un-tuned Random Forest): 92.47% \n"
     ]
    }
   ],
   "source": [
    "rf = RandomForestClassifier(n_estimators=100, random_state = 10)\n",
    "\n",
    "# Train the model on training data\n",
    "rf.fit(X_train, y_train)\n",
    "\n",
    "# Use the predict method of the Random Forest on the test data\n",
    "pred = rf.predict(X_test)\n",
    "\n",
    "# printing f1 score\n",
    "base_f1_score = metrics.f1_score(y_test, pred)\n",
    "print('F1 Score (un-tuned Random Forest): {:.2%} '.format(base_f1_score))"
   ]
  },
  {
   "cell_type": "markdown",
   "metadata": {},
   "source": [
    "The performance seems already good (92%), but we will try to improve it.\n",
    "\n",
    "As gathering more data and feature engineering are not valid options in our case, we will ensure that we choose suitable hyperparameters to maximize performance. Instead of *manual tuning*, which is not efficient enough, we will be *systematic* by evaluating a broad set of hyperparameter combinations **('parameter grid')** to identify what works best. For this, I will use the GridSearchCV function of Sci-kit Learn, that allows us to check a matrix of different hyperparameter values. The grid search process utilizes again the concept of cross-validation, to avoid overfitting (parameter 'cv' of the following GridSearchCV function). By default, *accuracy* is the score that is optimized, but based on the logic shared above, we will opt for the *f1-score*.\n",
    "\n",
    "As a reminder, I have already hold-out 30% of the initial (balanced) dataset as \"test data\", that the model does not \"see\". We will perform Grid Search only on the \"training data\" (and not the whole dataset), in order to *avoid data leakage and overfitting*.\n",
    "\n",
    "In terms of hyperparameters, the most important ones for a Random Forest, are:\n",
    "\n",
    "* *n_estimators*: number of trees in the forest\n",
    "* *max_depth*: max number of levels in each decision tree\n",
    "* *min_samples_split*: min number of data points placed in a node before the node is split\n",
    "* *min_samples_leaf*: min number of data points allowed in a leaf node\n",
    "* *max_features*: max number of features considered for splitting a node\n",
    "\n",
    "One could work towards an exhaustive parameter grid, however, this is too computationally expensive. In order to achieve a good balance, in the below code I am evaluating *288 different combinations* of the above hyperparameters."
   ]
  },
  {
   "cell_type": "code",
   "execution_count": 28,
   "metadata": {},
   "outputs": [
    {
     "name": "stdout",
     "output_type": "stream",
     "text": [
      "Fitting 3 folds for each of 288 candidates, totalling 864 fits\n"
     ]
    },
    {
     "name": "stderr",
     "output_type": "stream",
     "text": [
      "[Parallel(n_jobs=-1)]: Using backend LokyBackend with 4 concurrent workers.\n",
      "[Parallel(n_jobs=-1)]: Done  33 tasks      | elapsed:   11.6s\n",
      "[Parallel(n_jobs=-1)]: Done 154 tasks      | elapsed:   53.4s\n",
      "[Parallel(n_jobs=-1)]: Done 357 tasks      | elapsed:  2.1min\n",
      "[Parallel(n_jobs=-1)]: Done 640 tasks      | elapsed:  3.9min\n",
      "[Parallel(n_jobs=-1)]: Done 864 out of 864 | elapsed:  5.3min finished\n"
     ]
    },
    {
     "name": "stdout",
     "output_type": "stream",
     "text": [
      "{'max_depth': 50, 'max_features': 3, 'min_samples_leaf': 3, 'min_samples_split': 6, 'n_estimators': 1000}\n"
     ]
    }
   ],
   "source": [
    "from sklearn.model_selection import GridSearchCV\n",
    "model = RandomForestClassifier(random_state = 10)\n",
    "\n",
    "# Create the parameter grid: This is 4 x 4 x 3 x 3 x 2 = 288 combinations of parameters\n",
    "param_grid = {\n",
    "    'n_estimators': [100, 200, 500, 1000],\n",
    "    'max_depth': [50, 100, 150, 200],\n",
    "    'min_samples_leaf': [3, 4, 5],\n",
    "    'min_samples_split': [6, 9, 12],\n",
    "        'max_features': [2, 3]}\n",
    "\n",
    "grid_search = GridSearchCV(estimator = rf, param_grid = param_grid, cv = 3, refit=True, n_jobs = -1, verbose = 2, scoring='f1')\n",
    "\n",
    "# Fit the grid search to the training data\n",
    "grid_search.fit(X_train, y_train)\n",
    "\n",
    "# Print the best parameters set, as found on the training set\n",
    "print (grid_search.best_params_)"
   ]
  },
  {
   "cell_type": "markdown",
   "metadata": {},
   "source": [
    "The model identified the above values **(\"best_params_\")** as the *best hyperparameter combination, based on the f1 score*. \n",
    "We will now: a) save this model (**\"best_grid\"** variable), b) apply the model to the test set, c) evaluate its f1 performance on the test set and compare it with our *Baseline* above."
   ]
  },
  {
   "cell_type": "code",
   "execution_count": 29,
   "metadata": {},
   "outputs": [
    {
     "name": "stdout",
     "output_type": "stream",
     "text": [
      "RandomForestClassifier(bootstrap=True, ccp_alpha=0.0, class_weight=None,\n",
      "                       criterion='gini', max_depth=50, max_features=3,\n",
      "                       max_leaf_nodes=None, max_samples=None,\n",
      "                       min_impurity_decrease=0.0, min_impurity_split=None,\n",
      "                       min_samples_leaf=3, min_samples_split=6,\n",
      "                       min_weight_fraction_leaf=0.0, n_estimators=1000,\n",
      "                       n_jobs=None, oob_score=False, random_state=10, verbose=0,\n",
      "                       warm_start=False)\n"
     ]
    }
   ],
   "source": [
    "best_grid = grid_search.best_estimator_\n",
    "print (best_grid)"
   ]
  },
  {
   "cell_type": "code",
   "execution_count": 30,
   "metadata": {},
   "outputs": [
    {
     "name": "stdout",
     "output_type": "stream",
     "text": [
      "F1 Score (Tuned Random Forest): 92.78% \n",
      "Improvement of 0.34% versus baseline RF.\n"
     ]
    }
   ],
   "source": [
    "# Use the predict method of the final model on the test data\n",
    "pred = best_grid.predict(X_test)\n",
    "\n",
    "# Calculate the new f1 score\n",
    "f1_score = metrics.f1_score(y_test, pred)\n",
    "print('F1 Score (Tuned Random Forest): {:.2%} '.format(f1_score))\n",
    "\n",
    "# Comparing this performance vs our baseline model\n",
    "print('Improvement of {:0.2f}% versus baseline RF.'.format( 100 * (f1_score - base_f1_score) / base_f1_score))"
   ]
  },
  {
   "cell_type": "markdown",
   "metadata": {},
   "source": [
    "We see that by tuning the hyperparameters, we achieved a small *additional 0.34% improvement on f1-score*. \n",
    "For the sake of completeness, let's look at the *Classification Report* and the *Confusion Matrix* of the final model:"
   ]
  },
  {
   "cell_type": "code",
   "execution_count": 31,
   "metadata": {},
   "outputs": [
    {
     "name": "stdout",
     "output_type": "stream",
     "text": [
      "              precision    recall  f1-score   support\n",
      "\n",
      "   Not Fraud       0.89      0.97      0.93       144\n",
      "       Fraud       0.97      0.89      0.93       152\n",
      "\n",
      "    accuracy                           0.93       296\n",
      "   macro avg       0.93      0.93      0.93       296\n",
      "weighted avg       0.93      0.93      0.93       296\n",
      "\n"
     ]
    }
   ],
   "source": [
    "# Classification Report\n",
    "from sklearn.metrics import classification_report\n",
    "\n",
    "target_names = ['Not Fraud', 'Fraud']\n",
    "print(classification_report(y_test, pred, target_names = target_names))"
   ]
  },
  {
   "cell_type": "code",
   "execution_count": 32,
   "metadata": {},
   "outputs": [
    {
     "data": {
      "text/plain": [
       "[Text(51.0, 0.5, 'True Class'),\n",
       " Text(0.5, 33.0, 'Predicted Class'),\n",
       " Text(0.5, 1.0, 'Confusion Matrix')]"
      ]
     },
     "execution_count": 32,
     "metadata": {},
     "output_type": "execute_result"
    },
    {
     "data": {
      "image/png": "[encoded data removed]",
      "text/plain": [
       "<Figure size 576x432 with 2 Axes>"
      ]
     },
     "metadata": {
      "needs_background": "light"
     },
     "output_type": "display_data"
    }
   ],
   "source": [
    "# Confusion Matrix\n",
    "from sklearn.metrics import confusion_matrix\n",
    "\n",
    "cm = confusion_matrix(y_test, pred)\n",
    "\n",
    "fig, ax = plt.subplots(figsize=(8,6))  \n",
    "ax = sns.heatmap(cm, annot=True,annot_kws={\"size\": 12}, fmt=\".0f\", xticklabels = target_names, yticklabels = target_names,cmap=\"YlGnBu\")\n",
    " \n",
    "ax.set(title=\"Confusion Matrix\",\n",
    "      xlabel=\"Predicted Class\",\n",
    "      ylabel=\"True Class\",)"
   ]
  },
  {
   "cell_type": "markdown",
   "metadata": {},
   "source": [
    "We see that the model misclassified **only 21 values** (4 False-Positives and 17 False-Negatives), out of the 296 records of the test set. \n",
    "\n",
    "Very good performance, as the above F1 score depicts!"
   ]
  },
  {
   "cell_type": "code",
   "execution_count": null,
   "metadata": {},
   "outputs": [],
   "source": []
  }
 ],
 "metadata": {
  "kernelspec": {
   "display_name": "Python 3",
   "language": "python",
   "name": "python3"
  },
  "language_info": {
   "codemirror_mode": {
    "name": "ipython",
    "version": 3
   },
   "file_extension": ".py",
   "mimetype": "text/x-python",
   "name": "python",
   "nbconvert_exporter": "python",
   "pygments_lexer": "ipython3",
   "version": "3.7.7"
  }
 },
 "nbformat": 4,
 "nbformat_minor": 4
}
